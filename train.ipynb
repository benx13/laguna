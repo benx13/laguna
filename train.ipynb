{
  "cells": [
    {
      "cell_type": "code",
      "execution_count": null,
      "id": "f2810753-9d7d-42a3-aa58-7de5ae53bffd",
      "metadata": {
        "id": "f2810753-9d7d-42a3-aa58-7de5ae53bffd",
        "outputId": "e0df1b3e-6477-404f-e565-72c678586728"
      },
      "outputs": [
        {
          "name": "stdout",
          "output_type": "stream",
          "text": [
            "Sun Nov 17 12:44:00 2024       \n",
            "+-----------------------------------------------------------------------------------------+\n",
            "| NVIDIA-SMI 560.35.03              Driver Version: 560.35.03      CUDA Version: 12.6     |\n",
            "|-----------------------------------------+------------------------+----------------------+\n",
            "| GPU  Name                 Persistence-M | Bus-Id          Disp.A | Volatile Uncorr. ECC |\n",
            "| Fan  Temp   Perf          Pwr:Usage/Cap |           Memory-Usage | GPU-Util  Compute M. |\n",
            "|                                         |                        |               MIG M. |\n",
            "|=========================================+========================+======================|\n",
            "|   0  NVIDIA A100 80GB PCIe          On  |   00000000:E1:00.0 Off |                    0 |\n",
            "| N/A   50C    P0             53W /  300W |       1MiB /  81920MiB |      0%      Default |\n",
            "|                                         |                        |             Disabled |\n",
            "+-----------------------------------------+------------------------+----------------------+\n",
            "                                                                                         \n",
            "+-----------------------------------------------------------------------------------------+\n",
            "| Processes:                                                                              |\n",
            "|  GPU   GI   CI        PID   Type   Process name                              GPU Memory |\n",
            "|        ID   ID                                                               Usage      |\n",
            "|=========================================================================================|\n",
            "|  No running processes found                                                             |\n",
            "+-----------------------------------------------------------------------------------------+\n"
          ]
        }
      ],
      "source": [
        "!nvidia-smi"
      ]
    },
    {
      "cell_type": "markdown",
      "id": "FR2ca4GZOR2A",
      "metadata": {
        "id": "FR2ca4GZOR2A"
      },
      "source": [
        "# 1. Install packages"
      ]
    },
    {
      "cell_type": "code",
      "execution_count": null,
      "id": "mcFD02klOTi_",
      "metadata": {
        "colab": {
          "base_uri": "https://localhost:8080/"
        },
        "id": "mcFD02klOTi_",
        "outputId": "8a12674f-8b3d-4520-8c8f-3b8f4033952b"
      },
      "outputs": [],
      "source": [
        "!pip install torch==2.0.1 torchvision==0.15.2 --index-url https://download.pytorch.org/whl/cu118\n",
        "!pip install mmcv==2.0.1 -f https://download.openmmlab.com/mmcv/dist/cu118/torch2.0/index.html\n",
        "\n",
        "!pip install -qq ftfy openmim future tensorboard scikit-learn pandas\n",
        "!mim install mmengine\n",
        "!git clone -b main https://github.com/open-mmlab/mmdetection.git\n",
        "%cd mmdetection\n",
        "!pip install -e ."
      ]
    },
    {
      "cell_type": "code",
      "execution_count": null,
      "id": "89lmhTRqPrIe",
      "metadata": {
        "id": "89lmhTRqPrIe"
      },
      "outputs": [],
      "source": []
    },
    {
      "cell_type": "code",
      "execution_count": null,
      "id": "125c400a",
      "metadata": {
        "id": "125c400a",
        "outputId": "a69a0a3e-fed5-4b6f-bf73-f94f3867ec2e",
        "papermill": {
          "duration": 0.020236,
          "end_time": "2024-11-12T14:05:49.785055",
          "exception": false,
          "start_time": "2024-11-12T14:05:49.764819",
          "status": "completed"
        },
        "tags": []
      },
      "outputs": [
        {
          "name": "stdout",
          "output_type": "stream",
          "text": [
            "/workspace/mmdetection\n"
          ]
        },
        {
          "name": "stderr",
          "output_type": "stream",
          "text": [
            "/usr/local/lib/python3.10/dist-packages/IPython/core/magics/osm.py:417: UserWarning: using dhist requires you to install the `pickleshare` library.\n",
            "  self.shell.db['dhist'] = compress_dhist(dhist)[-100:]\n"
          ]
        }
      ],
      "source": [
        "# Ensure that you run the notebook from the mmdetection directory\n",
        "%cd /workspace/mmdetection"
      ]
    },
    {
      "cell_type": "code",
      "execution_count": null,
      "id": "6cbb420a-661a-4f21-ad81-3f15dfdb9531",
      "metadata": {
        "id": "6cbb420a-661a-4f21-ad81-3f15dfdb9531"
      },
      "outputs": [],
      "source": []
    },
    {
      "cell_type": "markdown",
      "id": "ZqjrEFQY3Jqv",
      "metadata": {
        "id": "ZqjrEFQY3Jqv"
      },
      "source": [
        "# 2. Setup the dataset"
      ]
    },
    {
      "cell_type": "code",
      "execution_count": 2,
      "id": "YllRJu9l3JFe",
      "metadata": {
        "colab": {
          "base_uri": "https://localhost:8080/"
        },
        "id": "YllRJu9l3JFe",
        "outputId": "616ec8c0-2462-4df8-efc1-f2084ca36e46"
      },
      "outputs": [
        {
          "name": "stdout",
          "output_type": "stream",
          "text": [
            "Downloading...\n",
            "From (original): https://drive.google.com/uc?id=16T40TdpaB8VXohm50SySREwrzbuPcJBC\n",
            "From (redirected): https://drive.google.com/uc?id=16T40TdpaB8VXohm50SySREwrzbuPcJBC&confirm=t&uuid=b1e406ca-f1fc-458c-b92f-1b1b815bc02c\n",
            "To: /content/mmdetection/images.zip\n",
            "100% 4.29G/4.29G [00:56<00:00, 76.5MB/s]\n"
          ]
        }
      ],
      "source": [
        "# Download dataset from Google Drive\n",
        "!gdown 16T40TdpaB8VXohm50SySREwrzbuPcJBC\n",
        "!mkdir -p data/images\n",
        "!unzip -qqnd data/images images.zip\n",
        "!mv Train.csv Test.csv SampleSubmission.csv data/"
      ]
    },
    {
      "cell_type": "code",
      "execution_count": 3,
      "id": "dYAWet8pUcnj",
      "metadata": {
        "colab": {
          "base_uri": "https://localhost:8080/"
        },
        "id": "dYAWet8pUcnj",
        "outputId": "e92d6d5e-34b7-4591-a104-3dd60eda5c5a"
      },
      "outputs": [
        {
          "name": "stdout",
          "output_type": "stream",
          "text": [
            "images\tSampleSubmission.csv  Test.csv\tTrain.csv\n"
          ]
        }
      ],
      "source": [
        "!ls data"
      ]
    },
    {
      "cell_type": "code",
      "execution_count": 6,
      "id": "9762bafc",
      "metadata": {
        "colab": {
          "base_uri": "https://localhost:8080/"
        },
        "id": "9762bafc",
        "outputId": "c0516230-b7ca-4f9c-aed2-a955ff05f7a3",
        "papermill": {
          "duration": 0.282488,
          "end_time": "2024-11-12T14:15:35.617219",
          "exception": false,
          "start_time": "2024-11-12T14:15:35.334731",
          "status": "completed"
        },
        "tags": []
      },
      "outputs": [
        {
          "name": "stdout",
          "output_type": "stream",
          "text": [
            "--2024-11-20 08:17:27--  https://download.openmmlab.com/mmdetection/v3.0/ddq/ddq_detr_swinl_30e.pth\n",
            "Resolving download.openmmlab.com (download.openmmlab.com)... 8.48.85.230, 8.48.85.226, 8.48.85.228, ...\n",
            "Connecting to download.openmmlab.com (download.openmmlab.com)|8.48.85.230|:443... connected.\n",
            "HTTP request sent, awaiting response... 200 OK\n",
            "Length: 883034647 (842M) [application/octet-stream]\n",
            "Saving to: ‘ddq_detr_swinl_30e.pth’\n",
            "\n",
            "ddq_detr_swinl_30e. 100%[===================>] 842.13M  31.8MB/s    in 27s     \n",
            "\n",
            "2024-11-20 08:17:55 (31.0 MB/s) - ‘ddq_detr_swinl_30e.pth’ saved [883034647/883034647]\n",
            "\n"
          ]
        }
      ],
      "source": [
        "## Download pretrained model weights\n",
        "!mkdir -p checkpoints\n",
        "!cd checkpoints && wget -nc https://download.openmmlab.com/mmdetection/v3.0/ddq/ddq_detr_swinl_30e.pth\n"
      ]
    },
    {
      "cell_type": "code",
      "execution_count": null,
      "id": "4sKxri5OUjSK",
      "metadata": {
        "id": "4sKxri5OUjSK"
      },
      "outputs": [],
      "source": []
    },
    {
      "cell_type": "markdown",
      "id": "cbLRr3U_gPbB",
      "metadata": {
        "id": "cbLRr3U_gPbB"
      },
      "source": [
        "# 3. Training"
      ]
    },
    {
      "cell_type": "code",
      "execution_count": 1,
      "id": "fa405d59",
      "metadata": {
        "id": "fa405d59",
        "papermill": {
          "duration": 3.695642,
          "end_time": "2024-11-12T14:11:33.266148",
          "exception": false,
          "start_time": "2024-11-12T14:11:29.570506",
          "status": "completed"
        },
        "tags": []
      },
      "outputs": [
        {
          "name": "stderr",
          "output_type": "stream",
          "text": [
            "/Users/benx13/Library/Python/3.9/lib/python/site-packages/tqdm/auto.py:21: TqdmWarning: IProgress not found. Please update jupyter and ipywidgets. See https://ipywidgets.readthedocs.io/en/stable/user_install.html\n",
            "  from .autonotebook import tqdm as notebook_tqdm\n"
          ]
        }
      ],
      "source": [
        "import pandas as pd, numpy as np\n",
        "import sys,os,shutil,gc,re,json,glob,math,time,random,warnings,logging\n",
        "\n",
        "from tqdm import tqdm\n",
        "from sklearn.model_selection import KFold,StratifiedKFold,GroupKFold,StratifiedGroupKFold\n",
        "import sklearn.metrics as skm\n",
        "from sklearn import preprocessing\n",
        "import torch\n",
        "from torch import nn\n",
        "import torch.nn.functional as F\n",
        "import cv2\n",
        "\n",
        "from mmengine import Config\n",
        "from mmengine.runner import Runner\n",
        "import mmdet\n",
        "\n",
        "N_SPLITS = 5\n",
        "RANDOM_STATE = 41\n",
        "FOLD=0\n",
        "\n",
        "def fix_seed(seed):\n",
        "    random.seed(seed)\n",
        "    os.environ['PYTHONHASHSEED'] = str(seed)\n",
        "    np.random.seed(seed)\n",
        "    torch.manual_seed(seed)\n",
        "    torch.cuda.manual_seed(seed)\n",
        "    torch.backends.cudnn.benchmark = False\n",
        "fix_seed(RANDOM_STATE)\n",
        "device = torch.device(\"cuda\" if torch.cuda.is_available() else \"cpu\")"
      ]
    },
    {
      "cell_type": "code",
      "execution_count": 9,
      "id": "QJA7mY7Wrt3M",
      "metadata": {
        "id": "QJA7mY7Wrt3M"
      },
      "outputs": [],
      "source": []
    },
    {
      "cell_type": "code",
      "execution_count": 4,
      "id": "4U3NFL1DYTd1",
      "metadata": {
        "colab": {
          "base_uri": "https://localhost:8080/",
          "height": 423
        },
        "id": "4U3NFL1DYTd1",
        "outputId": "737ac83a-0be7-4592-b8f2-072adf6486c8"
      },
      "outputs": [
        {
          "data": {
            "text/html": [
              "<div>\n",
              "<style scoped>\n",
              "    .dataframe tbody tr th:only-of-type {\n",
              "        vertical-align: middle;\n",
              "    }\n",
              "\n",
              "    .dataframe tbody tr th {\n",
              "        vertical-align: top;\n",
              "    }\n",
              "\n",
              "    .dataframe thead th {\n",
              "        text-align: right;\n",
              "    }\n",
              "</style>\n",
              "<table border=\"1\" class=\"dataframe\">\n",
              "  <thead>\n",
              "    <tr style=\"text-align: right;\">\n",
              "      <th></th>\n",
              "      <th>NAME</th>\n",
              "      <th>x1</th>\n",
              "      <th>y1</th>\n",
              "      <th>x2</th>\n",
              "      <th>y2</th>\n",
              "      <th>class</th>\n",
              "      <th>path</th>\n",
              "    </tr>\n",
              "  </thead>\n",
              "  <tbody>\n",
              "    <tr>\n",
              "      <th>0</th>\n",
              "      <td>cf7734a2-b.jpg</td>\n",
              "      <td>99</td>\n",
              "      <td>88</td>\n",
              "      <td>266</td>\n",
              "      <td>276</td>\n",
              "      <td>PNN</td>\n",
              "      <td>../data/images/cf7734a2-b.jpg</td>\n",
              "    </tr>\n",
              "    <tr>\n",
              "      <th>1</th>\n",
              "      <td>e6a3b579-0.jpg</td>\n",
              "      <td>92</td>\n",
              "      <td>78</td>\n",
              "      <td>272</td>\n",
              "      <td>284</td>\n",
              "      <td>MO</td>\n",
              "      <td>../data/images/e6a3b579-0.jpg</td>\n",
              "    </tr>\n",
              "    <tr>\n",
              "      <th>2</th>\n",
              "      <td>60f95776-f.jpg</td>\n",
              "      <td>110</td>\n",
              "      <td>103</td>\n",
              "      <td>251</td>\n",
              "      <td>251</td>\n",
              "      <td>MM</td>\n",
              "      <td>../data/images/60f95776-f.jpg</td>\n",
              "    </tr>\n",
              "    <tr>\n",
              "      <th>3</th>\n",
              "      <td>0894e581-c.jpg</td>\n",
              "      <td>112</td>\n",
              "      <td>121</td>\n",
              "      <td>248</td>\n",
              "      <td>262</td>\n",
              "      <td>LyB</td>\n",
              "      <td>../data/images/0894e581-c.jpg</td>\n",
              "    </tr>\n",
              "    <tr>\n",
              "      <th>4</th>\n",
              "      <td>3998a979-3.jpg</td>\n",
              "      <td>94</td>\n",
              "      <td>86</td>\n",
              "      <td>276</td>\n",
              "      <td>281</td>\n",
              "      <td>MO</td>\n",
              "      <td>../data/images/3998a979-3.jpg</td>\n",
              "    </tr>\n",
              "    <tr>\n",
              "      <th>...</th>\n",
              "      <td>...</td>\n",
              "      <td>...</td>\n",
              "      <td>...</td>\n",
              "      <td>...</td>\n",
              "      <td>...</td>\n",
              "      <td>...</td>\n",
              "      <td>...</td>\n",
              "    </tr>\n",
              "    <tr>\n",
              "      <th>52743</th>\n",
              "      <td>ddd3c8e9-5.jpg</td>\n",
              "      <td>133</td>\n",
              "      <td>132</td>\n",
              "      <td>226</td>\n",
              "      <td>231</td>\n",
              "      <td>LF</td>\n",
              "      <td>../data/images/ddd3c8e9-5.jpg</td>\n",
              "    </tr>\n",
              "    <tr>\n",
              "      <th>52744</th>\n",
              "      <td>1fa717be-0.jpg</td>\n",
              "      <td>109</td>\n",
              "      <td>112</td>\n",
              "      <td>252</td>\n",
              "      <td>257</td>\n",
              "      <td>M</td>\n",
              "      <td>../data/images/1fa717be-0.jpg</td>\n",
              "    </tr>\n",
              "    <tr>\n",
              "      <th>52745</th>\n",
              "      <td>1e923263-9.jpg</td>\n",
              "      <td>174</td>\n",
              "      <td>177</td>\n",
              "      <td>446</td>\n",
              "      <td>429</td>\n",
              "      <td>MoB</td>\n",
              "      <td>../data/images/1e923263-9.jpg</td>\n",
              "    </tr>\n",
              "    <tr>\n",
              "      <th>52746</th>\n",
              "      <td>08112a14-8.jpg</td>\n",
              "      <td>122</td>\n",
              "      <td>135</td>\n",
              "      <td>241</td>\n",
              "      <td>248</td>\n",
              "      <td>LyB</td>\n",
              "      <td>../data/images/08112a14-8.jpg</td>\n",
              "    </tr>\n",
              "    <tr>\n",
              "      <th>52747</th>\n",
              "      <td>9902b9c7-0.jpg</td>\n",
              "      <td>114</td>\n",
              "      <td>26</td>\n",
              "      <td>250</td>\n",
              "      <td>172</td>\n",
              "      <td>PNN</td>\n",
              "      <td>../data/images/9902b9c7-0.jpg</td>\n",
              "    </tr>\n",
              "  </tbody>\n",
              "</table>\n",
              "<p>52748 rows × 7 columns</p>\n",
              "</div>"
            ],
            "text/plain": [
              "                 NAME   x1   y1   x2   y2 class                           path\n",
              "0      cf7734a2-b.jpg   99   88  266  276   PNN  ../data/images/cf7734a2-b.jpg\n",
              "1      e6a3b579-0.jpg   92   78  272  284    MO  ../data/images/e6a3b579-0.jpg\n",
              "2      60f95776-f.jpg  110  103  251  251    MM  ../data/images/60f95776-f.jpg\n",
              "3      0894e581-c.jpg  112  121  248  262   LyB  ../data/images/0894e581-c.jpg\n",
              "4      3998a979-3.jpg   94   86  276  281    MO  ../data/images/3998a979-3.jpg\n",
              "...               ...  ...  ...  ...  ...   ...                            ...\n",
              "52743  ddd3c8e9-5.jpg  133  132  226  231    LF  ../data/images/ddd3c8e9-5.jpg\n",
              "52744  1fa717be-0.jpg  109  112  252  257     M  ../data/images/1fa717be-0.jpg\n",
              "52745  1e923263-9.jpg  174  177  446  429   MoB  ../data/images/1e923263-9.jpg\n",
              "52746  08112a14-8.jpg  122  135  241  248   LyB  ../data/images/08112a14-8.jpg\n",
              "52747  9902b9c7-0.jpg  114   26  250  172   PNN  ../data/images/9902b9c7-0.jpg\n",
              "\n",
              "[52748 rows x 7 columns]"
            ]
          },
          "execution_count": 4,
          "metadata": {},
          "output_type": "execute_result"
        }
      ],
      "source": [
        "DIR_DATA = 'data'\n",
        "CLASSES = {\n",
        "    'PNN': 0, 'MO': 1, 'MM': 2, 'LyB': 3, 'LGL': 4, 'Thromb': 5, 'LLC': 6, \n",
        "    'LAM3': 7, 'EO': 8, 'LY': 9, 'BA': 10, 'MoB': 11, 'LM': 12, 'LH_lyAct': 13,\n",
        "    'Lysee': 14, 'Er': 15, 'LF': 16, 'LZMG': 17, 'MBL': 18, 'SS': 19, 'PM': 20,\n",
        "    'B': 21, 'M': 22\n",
        "}\n",
        "df = pd.read_csv(f'{DIR_DATA}/train.csv')\n",
        "df['path'] = f'{DIR_DATA}/images/'+df['NAME']\n",
        "df['category_id'] = df['class'].map(CLASSES)\n",
        "df"
      ]
    },
    {
      "cell_type": "code",
      "execution_count": 5,
      "id": "5585e392",
      "metadata": {
        "id": "5585e392",
        "outputId": "de789c8b-beae-4932-d623-9993690e038c",
        "papermill": {
          "duration": 0.24401,
          "end_time": "2024-11-12T14:11:35.411896",
          "exception": false,
          "start_time": "2024-11-12T14:11:35.167886",
          "status": "completed"
        },
        "tags": []
      },
      "outputs": [
        {
          "data": {
            "text/html": [
              "<div>\n",
              "<style scoped>\n",
              "    .dataframe tbody tr th:only-of-type {\n",
              "        vertical-align: middle;\n",
              "    }\n",
              "\n",
              "    .dataframe tbody tr th {\n",
              "        vertical-align: top;\n",
              "    }\n",
              "\n",
              "    .dataframe thead th {\n",
              "        text-align: right;\n",
              "    }\n",
              "</style>\n",
              "<table border=\"1\" class=\"dataframe\">\n",
              "  <thead>\n",
              "    <tr style=\"text-align: right;\">\n",
              "      <th></th>\n",
              "      <th>x1</th>\n",
              "      <th>y1</th>\n",
              "      <th>x2</th>\n",
              "      <th>y2</th>\n",
              "    </tr>\n",
              "  </thead>\n",
              "  <tbody>\n",
              "    <tr>\n",
              "      <th>count</th>\n",
              "      <td>52748.000000</td>\n",
              "      <td>52748.000000</td>\n",
              "      <td>52748.000000</td>\n",
              "      <td>52748.000000</td>\n",
              "    </tr>\n",
              "    <tr>\n",
              "      <th>mean</th>\n",
              "      <td>117.975279</td>\n",
              "      <td>117.764162</td>\n",
              "      <td>262.584136</td>\n",
              "      <td>266.793319</td>\n",
              "    </tr>\n",
              "    <tr>\n",
              "      <th>std</th>\n",
              "      <td>38.544132</td>\n",
              "      <td>40.123163</td>\n",
              "      <td>54.316188</td>\n",
              "      <td>57.087062</td>\n",
              "    </tr>\n",
              "    <tr>\n",
              "      <th>min</th>\n",
              "      <td>-85.000000</td>\n",
              "      <td>-74.000000</td>\n",
              "      <td>13.000000</td>\n",
              "      <td>7.000000</td>\n",
              "    </tr>\n",
              "    <tr>\n",
              "      <th>25%</th>\n",
              "      <td>101.000000</td>\n",
              "      <td>101.000000</td>\n",
              "      <td>242.000000</td>\n",
              "      <td>245.000000</td>\n",
              "    </tr>\n",
              "    <tr>\n",
              "      <th>50%</th>\n",
              "      <td>114.000000</td>\n",
              "      <td>113.000000</td>\n",
              "      <td>255.000000</td>\n",
              "      <td>259.000000</td>\n",
              "    </tr>\n",
              "    <tr>\n",
              "      <th>75%</th>\n",
              "      <td>128.000000</td>\n",
              "      <td>128.000000</td>\n",
              "      <td>267.000000</td>\n",
              "      <td>272.000000</td>\n",
              "    </tr>\n",
              "    <tr>\n",
              "      <th>max</th>\n",
              "      <td>572.000000</td>\n",
              "      <td>565.000000</td>\n",
              "      <td>718.000000</td>\n",
              "      <td>812.000000</td>\n",
              "    </tr>\n",
              "  </tbody>\n",
              "</table>\n",
              "</div>"
            ],
            "text/plain": [
              "                 x1            y1            x2            y2\n",
              "count  52748.000000  52748.000000  52748.000000  52748.000000\n",
              "mean     117.975279    117.764162    262.584136    266.793319\n",
              "std       38.544132     40.123163     54.316188     57.087062\n",
              "min      -85.000000    -74.000000     13.000000      7.000000\n",
              "25%      101.000000    101.000000    242.000000    245.000000\n",
              "50%      114.000000    113.000000    255.000000    259.000000\n",
              "75%      128.000000    128.000000    267.000000    272.000000\n",
              "max      572.000000    565.000000    718.000000    812.000000"
            ]
          },
          "execution_count": 5,
          "metadata": {},
          "output_type": "execute_result"
        }
      ],
      "source": [
        "df.describe()"
      ]
    },
    {
      "cell_type": "code",
      "execution_count": 8,
      "id": "hINyLbF0YlJ_",
      "metadata": {
        "colab": {
          "base_uri": "https://localhost:8080/",
          "height": 489
        },
        "id": "hINyLbF0YlJ_",
        "outputId": "916ebb64-cc8e-4470-d80c-453fef01ebdc"
      },
      "outputs": [
        {
          "data": {
            "text/plain": [
              "NAME\n",
              "0a6762f2-0.jpg    11\n",
              "8a21dcc3-2.jpg    10\n",
              "1c82c308-7.jpg    10\n",
              "74490f37-b.jpg    10\n",
              "c98091e2-3.jpg     9\n",
              "                  ..\n",
              "ffe8d805-7.jpg     1\n",
              "44cff130-8.jpg     1\n",
              "5d586687-6.jpg     1\n",
              "9b6e6e53-5.jpg     1\n",
              "08112a14-8.jpg     1\n",
              "Name: count, Length: 48417, dtype: int64"
            ]
          },
          "execution_count": 8,
          "metadata": {},
          "output_type": "execute_result"
        }
      ],
      "source": [
        "df.NAME.value_counts()"
      ]
    },
    {
      "cell_type": "code",
      "execution_count": null,
      "id": "d7889c34",
      "metadata": {
        "id": "d7889c34",
        "papermill": {
          "duration": 0.167404,
          "end_time": "2024-11-12T14:11:36.397397",
          "exception": false,
          "start_time": "2024-11-12T14:11:36.229993",
          "status": "completed"
        },
        "tags": []
      },
      "outputs": [],
      "source": [
        "# df['area'] = (df.xmax-df.xmin)*(df.ymax-df.ymin)\n",
        "# df.area.describe()"
      ]
    },
    {
      "cell_type": "code",
      "execution_count": 9,
      "id": "XWii_5dFYxLt",
      "metadata": {
        "colab": {
          "base_uri": "https://localhost:8080/",
          "height": 209
        },
        "id": "XWii_5dFYxLt",
        "outputId": "4c1fd356-2929-41bd-9156-2a15a5fcd431"
      },
      "outputs": [
        {
          "data": {
            "text/plain": [
              "class\n",
              "PNN         6827\n",
              "Lysee       3408\n",
              "LAM3        3338\n",
              "LLC         3158\n",
              "LyB         3029\n",
              "MO          2743\n",
              "MBL         2668\n",
              "LGL         2439\n",
              "EO          2432\n",
              "Thromb      2319\n",
              "Er          2308\n",
              "B           2263\n",
              "LF          2131\n",
              "LY          2092\n",
              "M           1994\n",
              "MM          1707\n",
              "LH_lyAct    1705\n",
              "MoB         1531\n",
              "PM          1152\n",
              "BA          1001\n",
              "LM           944\n",
              "LZMG         845\n",
              "SS           714\n",
              "Name: count, dtype: int64"
            ]
          },
          "execution_count": 9,
          "metadata": {},
          "output_type": "execute_result"
        }
      ],
      "source": [
        "df['class'].value_counts()"
      ]
    },
    {
      "cell_type": "code",
      "execution_count": 10,
      "id": "bb065447",
      "metadata": {
        "colab": {
          "base_uri": "https://localhost:8080/",
          "height": 423
        },
        "id": "bb065447",
        "outputId": "06e301f3-eda3-4e8c-ec9c-786b05cbe1be",
        "papermill": {
          "duration": 0.157685,
          "end_time": "2024-11-12T14:11:37.049086",
          "exception": false,
          "start_time": "2024-11-12T14:11:36.891401",
          "status": "completed"
        },
        "tags": []
      },
      "outputs": [
        {
          "data": {
            "text/html": [
              "<div>\n",
              "<style scoped>\n",
              "    .dataframe tbody tr th:only-of-type {\n",
              "        vertical-align: middle;\n",
              "    }\n",
              "\n",
              "    .dataframe tbody tr th {\n",
              "        vertical-align: top;\n",
              "    }\n",
              "\n",
              "    .dataframe thead th {\n",
              "        text-align: right;\n",
              "    }\n",
              "</style>\n",
              "<table border=\"1\" class=\"dataframe\">\n",
              "  <thead>\n",
              "    <tr style=\"text-align: right;\">\n",
              "      <th></th>\n",
              "      <th>NAME</th>\n",
              "      <th>x1</th>\n",
              "      <th>y1</th>\n",
              "      <th>x2</th>\n",
              "      <th>y2</th>\n",
              "      <th>class</th>\n",
              "      <th>path</th>\n",
              "      <th>fold</th>\n",
              "    </tr>\n",
              "  </thead>\n",
              "  <tbody>\n",
              "    <tr>\n",
              "      <th>0</th>\n",
              "      <td>cf7734a2-b.jpg</td>\n",
              "      <td>99</td>\n",
              "      <td>88</td>\n",
              "      <td>266</td>\n",
              "      <td>276</td>\n",
              "      <td>PNN</td>\n",
              "      <td>../data/images/cf7734a2-b.jpg</td>\n",
              "      <td>1</td>\n",
              "    </tr>\n",
              "    <tr>\n",
              "      <th>1</th>\n",
              "      <td>e6a3b579-0.jpg</td>\n",
              "      <td>92</td>\n",
              "      <td>78</td>\n",
              "      <td>272</td>\n",
              "      <td>284</td>\n",
              "      <td>MO</td>\n",
              "      <td>../data/images/e6a3b579-0.jpg</td>\n",
              "      <td>1</td>\n",
              "    </tr>\n",
              "    <tr>\n",
              "      <th>2</th>\n",
              "      <td>60f95776-f.jpg</td>\n",
              "      <td>110</td>\n",
              "      <td>103</td>\n",
              "      <td>251</td>\n",
              "      <td>251</td>\n",
              "      <td>MM</td>\n",
              "      <td>../data/images/60f95776-f.jpg</td>\n",
              "      <td>0</td>\n",
              "    </tr>\n",
              "    <tr>\n",
              "      <th>3</th>\n",
              "      <td>0894e581-c.jpg</td>\n",
              "      <td>112</td>\n",
              "      <td>121</td>\n",
              "      <td>248</td>\n",
              "      <td>262</td>\n",
              "      <td>LyB</td>\n",
              "      <td>../data/images/0894e581-c.jpg</td>\n",
              "      <td>1</td>\n",
              "    </tr>\n",
              "    <tr>\n",
              "      <th>4</th>\n",
              "      <td>3998a979-3.jpg</td>\n",
              "      <td>94</td>\n",
              "      <td>86</td>\n",
              "      <td>276</td>\n",
              "      <td>281</td>\n",
              "      <td>MO</td>\n",
              "      <td>../data/images/3998a979-3.jpg</td>\n",
              "      <td>3</td>\n",
              "    </tr>\n",
              "    <tr>\n",
              "      <th>...</th>\n",
              "      <td>...</td>\n",
              "      <td>...</td>\n",
              "      <td>...</td>\n",
              "      <td>...</td>\n",
              "      <td>...</td>\n",
              "      <td>...</td>\n",
              "      <td>...</td>\n",
              "      <td>...</td>\n",
              "    </tr>\n",
              "    <tr>\n",
              "      <th>52743</th>\n",
              "      <td>ddd3c8e9-5.jpg</td>\n",
              "      <td>133</td>\n",
              "      <td>132</td>\n",
              "      <td>226</td>\n",
              "      <td>231</td>\n",
              "      <td>LF</td>\n",
              "      <td>../data/images/ddd3c8e9-5.jpg</td>\n",
              "      <td>3</td>\n",
              "    </tr>\n",
              "    <tr>\n",
              "      <th>52744</th>\n",
              "      <td>1fa717be-0.jpg</td>\n",
              "      <td>109</td>\n",
              "      <td>112</td>\n",
              "      <td>252</td>\n",
              "      <td>257</td>\n",
              "      <td>M</td>\n",
              "      <td>../data/images/1fa717be-0.jpg</td>\n",
              "      <td>4</td>\n",
              "    </tr>\n",
              "    <tr>\n",
              "      <th>52745</th>\n",
              "      <td>1e923263-9.jpg</td>\n",
              "      <td>174</td>\n",
              "      <td>177</td>\n",
              "      <td>446</td>\n",
              "      <td>429</td>\n",
              "      <td>MoB</td>\n",
              "      <td>../data/images/1e923263-9.jpg</td>\n",
              "      <td>2</td>\n",
              "    </tr>\n",
              "    <tr>\n",
              "      <th>52746</th>\n",
              "      <td>08112a14-8.jpg</td>\n",
              "      <td>122</td>\n",
              "      <td>135</td>\n",
              "      <td>241</td>\n",
              "      <td>248</td>\n",
              "      <td>LyB</td>\n",
              "      <td>../data/images/08112a14-8.jpg</td>\n",
              "      <td>1</td>\n",
              "    </tr>\n",
              "    <tr>\n",
              "      <th>52747</th>\n",
              "      <td>9902b9c7-0.jpg</td>\n",
              "      <td>114</td>\n",
              "      <td>26</td>\n",
              "      <td>250</td>\n",
              "      <td>172</td>\n",
              "      <td>PNN</td>\n",
              "      <td>../data/images/9902b9c7-0.jpg</td>\n",
              "      <td>2</td>\n",
              "    </tr>\n",
              "  </tbody>\n",
              "</table>\n",
              "<p>52748 rows × 8 columns</p>\n",
              "</div>"
            ],
            "text/plain": [
              "                 NAME   x1   y1   x2   y2 class  \\\n",
              "0      cf7734a2-b.jpg   99   88  266  276   PNN   \n",
              "1      e6a3b579-0.jpg   92   78  272  284    MO   \n",
              "2      60f95776-f.jpg  110  103  251  251    MM   \n",
              "3      0894e581-c.jpg  112  121  248  262   LyB   \n",
              "4      3998a979-3.jpg   94   86  276  281    MO   \n",
              "...               ...  ...  ...  ...  ...   ...   \n",
              "52743  ddd3c8e9-5.jpg  133  132  226  231    LF   \n",
              "52744  1fa717be-0.jpg  109  112  252  257     M   \n",
              "52745  1e923263-9.jpg  174  177  446  429   MoB   \n",
              "52746  08112a14-8.jpg  122  135  241  248   LyB   \n",
              "52747  9902b9c7-0.jpg  114   26  250  172   PNN   \n",
              "\n",
              "                                path  fold  \n",
              "0      ../data/images/cf7734a2-b.jpg     1  \n",
              "1      ../data/images/e6a3b579-0.jpg     1  \n",
              "2      ../data/images/60f95776-f.jpg     0  \n",
              "3      ../data/images/0894e581-c.jpg     1  \n",
              "4      ../data/images/3998a979-3.jpg     3  \n",
              "...                              ...   ...  \n",
              "52743  ../data/images/ddd3c8e9-5.jpg     3  \n",
              "52744  ../data/images/1fa717be-0.jpg     4  \n",
              "52745  ../data/images/1e923263-9.jpg     2  \n",
              "52746  ../data/images/08112a14-8.jpg     1  \n",
              "52747  ../data/images/9902b9c7-0.jpg     2  \n",
              "\n",
              "[52748 rows x 8 columns]"
            ]
          },
          "execution_count": 10,
          "metadata": {},
          "output_type": "execute_result"
        }
      ],
      "source": [
        "def split_data(df):\n",
        "    gkf  = StratifiedGroupKFold(n_splits=N_SPLITS,shuffle=True,random_state=RANDOM_STATE)\n",
        "    df['fold'] = -1\n",
        "    for fold_id, (train_index, test_index) in enumerate(gkf.split(df,y=df['class'],groups=df.Image_ID)):\n",
        "        df.loc[test_index,'fold'] = fold_id\n",
        "    return df\n",
        "\n",
        "def get_splits(df,fold):\n",
        "    df_trn = df[df.fold!=fold].copy()\n",
        "    df_val = df[df.fold==fold].copy()\n",
        "\n",
        "    return df_trn,df_val\n",
        "\n",
        "df = split_data(df)\n",
        "df"
      ]
    },
    {
      "cell_type": "code",
      "execution_count": 11,
      "id": "ldlG3t_8ZFSb",
      "metadata": {
        "colab": {
          "base_uri": "https://localhost:8080/",
          "height": 178
        },
        "id": "ldlG3t_8ZFSb",
        "outputId": "a83810ae-877c-49eb-aaca-a0d000dd5a18"
      },
      "outputs": [
        {
          "data": {
            "text/plain": [
              "split\n",
              "train    42133\n",
              "val      10615\n",
              "Name: count, dtype: int64"
            ]
          },
          "execution_count": 11,
          "metadata": {},
          "output_type": "execute_result"
        }
      ],
      "source": [
        "\n",
        "df['split'] = 'train'\n",
        "df.loc[df.fold==FOLD,'split'] = 'val'\n",
        "df.split.value_counts()\n",
        "\n"
      ]
    },
    {
      "cell_type": "code",
      "execution_count": 18,
      "id": "6ba33d5c",
      "metadata": {
        "id": "6ba33d5c",
        "papermill": {
          "duration": 0.188625,
          "end_time": "2024-11-12T14:11:55.317004",
          "exception": false,
          "start_time": "2024-11-12T14:11:55.128379",
          "status": "completed"
        },
        "tags": []
      },
      "outputs": [],
      "source": [
        "\n",
        "\n",
        "def gen_anno(meta,split):\n",
        "    annotations = []\n",
        "    images = []\n",
        "    anno_id = 0\n",
        "    image_id = 0\n",
        "\n",
        "    meta=meta.copy()\n",
        "    for file_name,d in tqdm(meta.groupby('NAME')):\n",
        "        path = d.path.values[0]\n",
        "        im = cv2.imread(path)\n",
        "        height,width,_ = im.shape\n",
        "        for _,row in d.iterrows():\n",
        "            x0, y0, x1, y1 = row.x1, row.y1, row.x2, row.y2\n",
        "            w = x1 - x0\n",
        "            h = y1 - y0\n",
        "            bbox = np.array([x0, y0, w, h]).tolist()\n",
        "            area = w * h\n",
        "            if area<1:\n",
        "                #print('skipping',file_name,area)\n",
        "                continue\n",
        "\n",
        "            anno = dict(\n",
        "                        image_id = image_id,\n",
        "                        id = anno_id,\n",
        "                        category_id = row.category_id,\n",
        "                        bbox = bbox,\n",
        "                        area = area,\n",
        "                        iscrowd = 0\n",
        "                    )\n",
        "            anno_id += 1\n",
        "            annotations.append(anno)\n",
        "\n",
        "        images.append(dict(id=image_id, file_name=file_name,height=height,width=width))\n",
        "        image_id += 1\n",
        "\n",
        "    categories = [dict(id=id, name=name) for name, id in CLASSES.items()]\n",
        "    coco_json = dict(images=images, annotations=annotations, categories=categories)\n",
        "    path = f'data/{split}.json'\n",
        "    print(f'written {len(annotations)} annotations for {len(images)} images to {path}')\n",
        "    with open(path,'w', encoding='utf-8') as f:\n",
        "        json.dump(coco_json,f,ensure_ascii=False)\n",
        "\n"
      ]
    },
    {
      "cell_type": "code",
      "execution_count": 19,
      "id": "71c920ed",
      "metadata": {
        "colab": {
          "base_uri": "https://localhost:8080/"
        },
        "id": "71c920ed",
        "outputId": "6e15ce3b-beea-4580-e161-62a13afe48d4",
        "papermill": {
          "duration": 171.005578,
          "end_time": "2024-11-12T14:14:46.499712",
          "exception": false,
          "start_time": "2024-11-12T14:11:55.494134",
          "status": "completed"
        },
        "tags": []
      },
      "outputs": [
        {
          "name": "stderr",
          "output_type": "stream",
          "text": [
            "100%|██████████| 9685/9685 [00:14<00:00, 657.93it/s]\n"
          ]
        },
        {
          "name": "stdout",
          "output_type": "stream",
          "text": [
            "written 10615 annotations for 9685 images to ../data/val.json\n"
          ]
        },
        {
          "name": "stderr",
          "output_type": "stream",
          "text": [
            "100%|██████████| 48417/48417 [01:15<00:00, 645.06it/s]\n"
          ]
        },
        {
          "name": "stdout",
          "output_type": "stream",
          "text": [
            "written 52748 annotations for 48417 images to ../data/train.json\n"
          ]
        }
      ],
      "source": [
        "\n",
        "gen_anno(df[df.split=='val'],'val')\n",
        "### gen_anno(df[df.split=='train'],'train')\n",
        "# training on complete dataset\n",
        "gen_anno(df,'train')\n"
      ]
    },
    {
      "cell_type": "code",
      "execution_count": 20,
      "id": "a504ac0b-5bb4-41d5-ae56-98027dcd4a65",
      "metadata": {
        "colab": {
          "base_uri": "https://localhost:8080/"
        },
        "id": "a504ac0b-5bb4-41d5-ae56-98027dcd4a65",
        "outputId": "45fba36d-3598-47db-f55e-1dc4fab79958"
      },
      "outputs": [
        {
          "name": "stdout",
          "output_type": "stream",
          "text": [
            "Test.csv   Train.csv  \u001b[1m\u001b[36mimages\u001b[m\u001b[m     train.json val.json\n"
          ]
        }
      ],
      "source": [
        "!ls ../data"
      ]
    },
    {
      "cell_type": "code",
      "execution_count": 1,
      "id": "5b1dd51a",
      "metadata": {
        "id": "5b1dd51a",
        "papermill": {
          "duration": 1.950372,
          "end_time": "2024-11-12T14:14:48.712149",
          "exception": false,
          "start_time": "2024-11-12T14:14:46.761777",
          "status": "completed"
        },
        "tags": []
      },
      "outputs": [],
      "source": []
    },
    {
      "cell_type": "code",
      "execution_count": null,
      "id": "b02a7f08",
      "metadata": {
        "id": "b02a7f08",
        "papermill": {
          "duration": 0.365289,
          "end_time": "2024-11-12T14:15:40.885350",
          "exception": false,
          "start_time": "2024-11-12T14:15:40.520061",
          "status": "completed"
        },
        "tags": []
      },
      "outputs": [],
      "source": [
        "cfg_path = 'configs/ddq/ddq-detr-4scale_swinl_8xb2-30e_coco.py'\n",
        "cfg = Config.fromfile(cfg_path)\n",
        "\n",
        "load_from = 'checkpoints/ddq_detr_swinl_30e.pth'\n",
        "\n",
        "data_dir = 'data'\n",
        "img_prefix = 'images'\n",
        "max_epochs = 30\n",
        "val_interval = 1\n",
        "\n",
        "bs = 2\n",
        "cfg.train_num_workers = num_workers = 8\n",
        "cfg.train_dataloader.batch_size = bs\n",
        "\n",
        "cfg.data_root = data_dir\n",
        "cfg.work_dir = './output'\n",
        "metainfo = {\n",
        "    'classes': tuple(CLASSES.keys()),\n",
        "    'palette': [\n",
        "        (random.randint(0, 255), random.randint(0, 255), random.randint(0, 255)) \n",
        "        for _ in range(len(CLASSES))\n",
        "    ]\n",
        "}\n",
        "cfg.dataset_type = 'CocoDataset'\n",
        "\n",
        "num_classes = 23\n",
        "\n",
        "cfg.num_classes = num_classes\n",
        "cfg.model.bbox_head.num_classes = num_classes\n",
        "\n",
        "cfg.train_pipeline =[\n",
        "    dict(backend_args=None, type='LoadImageFromFile'),\n",
        "    dict(type='LoadAnnotations', with_bbox=True),\n",
        "    dict(prob=0.5, type='RandomFlip'),\n",
        "\n",
        "    dict(\n",
        "        transforms=[\n",
        "            [\n",
        "                dict(\n",
        "                    keep_ratio=True,\n",
        "                    scales=[\n",
        "                        (384, 384),\n",
        "                        (416, 416),\n",
        "                        (448, 448),\n",
        "                        (480, 480),\n",
        "                        (512, 512),\n",
        "                    ],\n",
        "                    type='RandomChoiceResize'),\n",
        "            ],\n",
        "            [\n",
        "                dict(\n",
        "                    keep_ratio=True,\n",
        "                    scales=[(352, 352), (384, 384), (416, 416)],\n",
        "                    type='RandomChoiceResize'),\n",
        "                dict(\n",
        "                    allow_negative_crop=True,\n",
        "                    crop_size=(320, 320),\n",
        "                    crop_type='absolute_range',\n",
        "                    type='RandomCrop'),\n",
        "                dict(\n",
        "                    keep_ratio=True,\n",
        "                    scales=[(384, 384), (416, 416), (448, 448)],\n",
        "                    type='RandomChoiceResize'),\n",
        "            ],\n",
        "        ],\n",
        "        type='RandomChoice'),\n",
        "\n",
        "    dict(type='YOLOXHSVRandomAug'),\n",
        "    dict(type='Sharpness',prob=0.5),\n",
        "    dict(type='AutoContrast',prob=0.5,min_mag=0.1,max_mag=1.9,level=10),\n",
        "    dict(type='Rotate', level=10, min_mag=180.,max_mag=180.,prob=0.5),\n",
        "\n",
        "    dict(type='PackDetInputs'),\n",
        "    ]\n",
        "\n",
        "\n",
        "cfg.train_dataloader.dataset=dict(\n",
        "        data_root=cfg.data_root,\n",
        "        metainfo=metainfo,\n",
        "        ann_file='train.json',\n",
        "        backend_args=None,\n",
        "        data_prefix=dict(img=img_prefix),\n",
        "        filter_cfg=dict(filter_empty_gt=False),\n",
        "        pipeline=cfg.train_pipeline,\n",
        "\n",
        "        type='CocoDataset')\n",
        "\n",
        "cfg.train_dataloader.num_workers = cfg.val_dataloader.num_workers = num_workers\n",
        "cfg.val_dataloader.dataset=dict(\n",
        "        data_root=cfg.data_root,\n",
        "        metainfo=metainfo,\n",
        "        data_prefix=dict(img=img_prefix),\n",
        "        ann_file='val.json',\n",
        "        pipeline = cfg.test_pipeline,\n",
        "        test_mode=True,\n",
        "    type='CocoDataset')\n",
        "\n",
        "cfg.test_dataloader = cfg.val_dataloader\n",
        "\n",
        "cfg.load_from = load_from\n",
        "cfg.train_cfg = dict(type='EpochBasedTrainLoop', max_epochs=max_epochs, val_interval=val_interval)\n",
        "cfg.visualizer = dict( name='visualizer',type='DetLocalVisualizer',vis_backends=[dict(type='LocalVisBackend'),dict(type='TensorboardVisBackend')])\n",
        "cfg.val_evaluator = cfg.test_evaluator = dict(\n",
        "    ann_file='data/val.json',\n",
        "    backend_args=None,\n",
        "    format_only=False,\n",
        "    metric=[\n",
        "        'bbox',\n",
        "    ],\n",
        "    type='CocoMetric')"
      ]
    },
    {
      "cell_type": "code",
      "execution_count": null,
      "id": "23279a50-2973-435b-84d6-a68d238fc045",
      "metadata": {
        "id": "23279a50-2973-435b-84d6-a68d238fc045"
      },
      "outputs": [],
      "source": []
    },
    {
      "cell_type": "code",
      "execution_count": null,
      "id": "8de47378",
      "metadata": {
        "id": "8de47378",
        "outputId": "2a12dc90-44be-496f-aac3-056ccfcdcda3",
        "papermill": {
          "duration": 33414.567216,
          "end_time": "2024-11-12T23:32:36.282617",
          "exception": false,
          "start_time": "2024-11-12T14:15:41.715401",
          "status": "completed"
        },
        "scrolled": true,
        "tags": []
      },
      "outputs": [],
      "source": [
        "fix_seed(RANDOM_STATE)\n",
        "runner = Runner.from_cfg(cfg)\n",
        "runner.train()"
      ]
    },
    {
      "cell_type": "code",
      "execution_count": null,
      "id": "bb35b55f-2c65-48ea-8822-3a0b43a4056d",
      "metadata": {
        "id": "bb35b55f-2c65-48ea-8822-3a0b43a4056d"
      },
      "outputs": [],
      "source": []
    },
    {
      "cell_type": "code",
      "execution_count": null,
      "id": "cf239dc6",
      "metadata": {
        "id": "cf239dc6",
        "papermill": {
          "duration": 3.945795,
          "end_time": "2024-11-12T23:32:40.594070",
          "exception": false,
          "start_time": "2024-11-12T23:32:36.648275",
          "status": "completed"
        },
        "tags": []
      },
      "outputs": [],
      "source": [
        "# !cp output/epoch_30.pth ./"
      ]
    }
  ],
  "metadata": {
    "colab": {
      "collapsed_sections": [
        "FR2ca4GZOR2A"
      ],
      "provenance": []
    },
    "kaggle": {
      "accelerator": "gpu",
      "dataSources": [],
      "dockerImageVersionId": 30787,
      "isGpuEnabled": true,
      "isInternetEnabled": true,
      "language": "python",
      "sourceType": "notebook"
    },
    "kernelspec": {
      "display_name": "Python 3",
      "name": "python3"
    },
    "language_info": {
      "codemirror_mode": {
        "name": "ipython",
        "version": 3
      },
      "file_extension": ".py",
      "mimetype": "text/x-python",
      "name": "python",
      "nbconvert_exporter": "python",
      "pygments_lexer": "ipython3",
      "version": "3.9.6"
    },
    "papermill": {
      "default_parameters": {},
      "duration": 34314.118631,
      "end_time": "2024-11-12T23:37:41.114835",
      "environment_variables": {},
      "exception": true,
      "input_path": "__notebook__.ipynb",
      "output_path": "__notebook__.ipynb",
      "parameters": {},
      "start_time": "2024-11-12T14:05:46.996204",
      "version": "2.6.0"
    }
  },
  "nbformat": 4,
  "nbformat_minor": 5
}
